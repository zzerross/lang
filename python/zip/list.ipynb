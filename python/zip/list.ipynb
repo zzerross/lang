{
 "cells": [
  {
   "cell_type": "code",
   "execution_count": 8,
   "id": "e0bf573f",
   "metadata": {},
   "outputs": [
    {
     "name": "stdout",
     "output_type": "stream",
     "text": [
      "zip items: (1, 3)\n",
      "zip items: (2, 4)\n",
      "list of zip: []\n"
     ]
    }
   ],
   "source": [
    "z = zip([1, 2], [3, 4])\n",
    "for i in z:\n",
    "    print(\"zip items:\", i)\n",
    "\n",
    "l = list(z)\n",
    "print(\"list of zip:\", l)"
   ]
  }
 ],
 "metadata": {
  "kernelspec": {
   "display_name": "Python 3",
   "language": "python",
   "name": "python3"
  },
  "language_info": {
   "codemirror_mode": {
    "name": "ipython",
    "version": 3
   },
   "file_extension": ".py",
   "mimetype": "text/x-python",
   "name": "python",
   "nbconvert_exporter": "python",
   "pygments_lexer": "ipython3",
   "version": "3.8.8"
  }
 },
 "nbformat": 4,
 "nbformat_minor": 5
}
