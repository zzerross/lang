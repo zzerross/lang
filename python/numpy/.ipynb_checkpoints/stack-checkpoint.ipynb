{
 "cells": [
  {
   "cell_type": "code",
   "execution_count": 19,
   "id": "06b7bfcf",
   "metadata": {},
   "outputs": [],
   "source": [
    "import numpy as np\n",
    "\n",
    "x = [1, 2, 3]\n",
    "y = [4, 5, 6]"
   ]
  },
  {
   "cell_type": "code",
   "execution_count": 20,
   "id": "5969310c",
   "metadata": {},
   "outputs": [
    {
     "name": "stdout",
     "output_type": "stream",
     "text": [
      "a: [[1 2 3]\n",
      " [4 5 6]] (2, 3)\n"
     ]
    }
   ],
   "source": [
    "a = np.array([x, y])\n",
    "print(\"a:\", a, a.shape)"
   ]
  },
  {
   "cell_type": "code",
   "execution_count": 21,
   "id": "d123cd2b",
   "metadata": {},
   "outputs": [
    {
     "name": "stdout",
     "output_type": "stream",
     "text": [
      "s: [[1 2]\n",
      " [3 4]\n",
      " [5 6]] (3, 2)\n"
     ]
    }
   ],
   "source": [
    "s = a.reshape((-1, 2))\n",
    "print(\"s:\", s, s.shape)"
   ]
  },
  {
   "cell_type": "code",
   "execution_count": 22,
   "id": "4238b585",
   "metadata": {},
   "outputs": [
    {
     "name": "stdout",
     "output_type": "stream",
     "text": [
      "c: [1 2 3 4 5 6] (6,)\n"
     ]
    }
   ],
   "source": [
    "c = np.concatenate((x, y))\n",
    "print(\"c:\", c, c.shape)"
   ]
  },
  {
   "cell_type": "code",
   "execution_count": 24,
   "id": "74dd4718",
   "metadata": {},
   "outputs": [
    {
     "name": "stdout",
     "output_type": "stream",
     "text": [
      "s: [[1 2 3]\n",
      " [4 5 6]] (2, 3)\n"
     ]
    }
   ],
   "source": [
    "s = np.stack((x, y))\n",
    "print(\"s:\", s, s.shape)"
   ]
  },
  {
   "cell_type": "code",
   "execution_count": 25,
   "id": "da90b250",
   "metadata": {},
   "outputs": [
    {
     "name": "stdout",
     "output_type": "stream",
     "text": [
      "s: [[1 4]\n",
      " [2 5]\n",
      " [3 6]] (3, 2)\n"
     ]
    }
   ],
   "source": [
    "s = np.stack((x, y), axis=1)\n",
    "print(\"s:\", s, s.shape)"
   ]
  }
 ],
 "metadata": {
  "kernelspec": {
   "display_name": "Python 3",
   "language": "python",
   "name": "python3"
  },
  "language_info": {
   "codemirror_mode": {
    "name": "ipython",
    "version": 3
   },
   "file_extension": ".py",
   "mimetype": "text/x-python",
   "name": "python",
   "nbconvert_exporter": "python",
   "pygments_lexer": "ipython3",
   "version": "3.8.8"
  }
 },
 "nbformat": 4,
 "nbformat_minor": 5
}
