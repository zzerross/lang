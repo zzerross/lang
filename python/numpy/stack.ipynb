{
 "cells": [
  {
   "cell_type": "code",
   "execution_count": 19,
   "id": "06b7bfcf",
   "metadata": {},
   "outputs": [],
   "source": [
    "import numpy as np\n",
    "\n",
    "x = [1, 2, 3]\n",
    "y = [4, 5, 6]"
   ]
  },
  {
   "cell_type": "code",
   "execution_count": 20,
   "id": "d417141f",
   "metadata": {},
   "outputs": [
    {
     "name": "stdout",
     "output_type": "stream",
     "text": [
      "a: [[1 2 3]\n",
      " [4 5 6]] (2, 3)\n"
     ]
    }
   ],
   "source": [
    "a = np.array([x, y])\n",
    "print(\"a:\", a, a.shape)"
   ]
  },
  {
   "cell_type": "code",
   "execution_count": 21,
   "id": "af847e61",
   "metadata": {},
   "outputs": [
    {
     "name": "stdout",
     "output_type": "stream",
     "text": [
      "s: [[1 2]\n",
      " [3 4]\n",
      " [5 6]] (3, 2)\n"
     ]
    }
   ],
   "source": [
    "s = a.reshape((-1, 2))\n",
    "print(\"s:\", s, s.shape)"
   ]
  },
  {
   "cell_type": "code",
   "execution_count": 22,
   "id": "cc0a4da1",
   "metadata": {},
   "outputs": [
    {
     "name": "stdout",
     "output_type": "stream",
     "text": [
      "c: [1 2 3 4 5 6] (6,)\n"
     ]
    }
   ],
   "source": [
    "c = np.concatenate((x, y))\n",
    "print(\"c:\", c, c.shape)"
   ]
  },
  {
   "cell_type": "code",
   "execution_count": 24,
   "id": "b6c9f4d4",
   "metadata": {},
   "outputs": [
    {
     "name": "stdout",
     "output_type": "stream",
     "text": [
      "s: [[1 2 3]\n",
      " [4 5 6]] (2, 3)\n"
     ]
    }
   ],
   "source": [
    "s = np.stack((x, y))\n",
    "print(\"s:\", s, s.shape)"
   ]
  },
  {
   "cell_type": "code",
   "execution_count": 26,
   "id": "3bf30c56",
   "metadata": {},
   "outputs": [
    {
     "name": "stdout",
     "output_type": "stream",
     "text": [
      "s: [[1 4]\n",
      " [2 5]\n",
      " [3 6]] (3, 2)\n"
     ]
    }
   ],
   "source": [
    "s = np.stack((x, y), axis=1)\n",
    "print(\"s:\", s, s.shape)"
   ]
  },
  {
   "cell_type": "code",
   "execution_count": 30,
   "id": "37ce6cf1",
   "metadata": {},
   "outputs": [
    {
     "name": "stdout",
     "output_type": "stream",
     "text": [
      "s: [[[1 4]\n",
      "  [2 5]\n",
      "  [3 6]]] (1, 3, 2)\n"
     ]
    }
   ],
   "source": [
    "s = np.dstack((x, y))\n",
    "print(\"s:\", s, s.shape)"
   ]
  }
 ],
 "metadata": {
  "kernelspec": {
   "display_name": "Python 3",
   "language": "python",
   "name": "python3"
  },
  "language_info": {
   "codemirror_mode": {
    "name": "ipython",
    "version": 3
   },
   "file_extension": ".py",
   "mimetype": "text/x-python",
   "name": "python",
   "nbconvert_exporter": "python",
   "pygments_lexer": "ipython3",
   "version": "3.8.8"
  }
 },
 "nbformat": 4,
 "nbformat_minor": 5
}
